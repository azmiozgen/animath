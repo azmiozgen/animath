{
 "cells": [
  {
   "cell_type": "code",
   "execution_count": 61,
   "metadata": {
    "collapsed": true
   },
   "outputs": [],
   "source": [
    "from math import pi\n",
    "import numpy as np\n",
    "import matplotlib.pyplot as plt\n",
    "%matplotlib inline\n",
    "from cairo import SVGSurface, Context, Matrix, ImageSurface, FORMAT_ARGB32"
   ]
  },
  {
   "cell_type": "code",
   "execution_count": 121,
   "metadata": {
    "collapsed": false
   },
   "outputs": [],
   "source": [
    "WIDTH = 6 * 72\n",
    "HEIGHT = 4 * 72\n",
    "\n",
    "#s = SVGSurface('example1.svg', WIDTH, HEIGHT)\n",
    "s = ImageSurface(FORMAT_ARGB32, WIDTH, HEIGHT)\n",
    "c = Context(s)\n",
    "\n",
    "# Transform to normal cartesian coordinate system\n",
    "m = Matrix(yy=-1, y0=HEIGHT)\n",
    "c.transform(m)"
   ]
  },
  {
   "cell_type": "code",
   "execution_count": 122,
   "metadata": {
    "collapsed": true
   },
   "outputs": [],
   "source": [
    "# Set a background color\n",
    "c.save()\n",
    "c.set_source_rgb(0.3, 0.3, 1.0)\n",
    "c.paint()\n",
    "c.restore()"
   ]
  },
  {
   "cell_type": "code",
   "execution_count": 123,
   "metadata": {
    "collapsed": true
   },
   "outputs": [],
   "source": [
    "# Draw some lines\n",
    "c.move_to(0, 0)\n",
    "c.line_to(2 * 72, 2 * 72)\n",
    "c.line_to(3 * 72, 1 * 72)\n",
    "c.line_to(4 * 72, 2 * 72)\n",
    "c.line_to(6 * 72, 0)\n",
    "c.close_path()\n",
    "c.save()\n",
    "c.set_line_width(6.0)\n",
    "c.stroke_preserve()\n",
    "c.set_source_rgb(0.6, 0.3, 0.1)\n",
    "c.fill()\n",
    "c.restore()"
   ]
  },
  {
   "cell_type": "code",
   "execution_count": 130,
   "metadata": {
    "collapsed": true
   },
   "outputs": [],
   "source": [
    "# Draw a circle\n",
    "c.save()\n",
    "c.set_line_width(6.0)\n",
    "c.arc(1 * 72, 3 * 72, 0.3 * 72, 0, 2 * pi)   ## (x, y, r, theta_start, theta_end)\n",
    "c.stroke_preserve()\n",
    "c.set_source_rgb(1.0, 1.0, 0)\n",
    "c.fill()\n",
    "c.restore()"
   ]
  },
  {
   "cell_type": "code",
   "execution_count": 135,
   "metadata": {
    "collapsed": false
   },
   "outputs": [
    {
     "data": {
      "text/plain": [
       "array([[[ 76,  76, 255, 255],\n",
       "        [ 76,  76, 255, 255],\n",
       "        [ 76,  76, 255, 255],\n",
       "        ..., \n",
       "        [ 76,  76, 255, 255],\n",
       "        [ 76,  76, 255, 255],\n",
       "        [ 76,  76, 255, 255]],\n",
       "\n",
       "       [[ 76,  76, 255, 255],\n",
       "        [ 76,  76, 255, 255],\n",
       "        [ 76,  76, 255, 255],\n",
       "        ..., \n",
       "        [ 76,  76, 255, 255],\n",
       "        [ 76,  76, 255, 255],\n",
       "        [ 76,  76, 255, 255]],\n",
       "\n",
       "       [[ 76,  76, 255, 255],\n",
       "        [ 76,  76, 255, 255],\n",
       "        [ 76,  76, 255, 255],\n",
       "        ..., \n",
       "        [ 76,  76, 255, 255],\n",
       "        [ 76,  76, 255, 255],\n",
       "        [ 76,  76, 255, 255]],\n",
       "\n",
       "       ..., \n",
       "       [[  0,   0,   0, 255],\n",
       "        [  0,   0,   0, 255],\n",
       "        [ 77,  38,  13, 255],\n",
       "        ..., \n",
       "        [ 82,  41,  13, 255],\n",
       "        [  0,   0,   0, 255],\n",
       "        [  0,   0,   0, 255]],\n",
       "\n",
       "       [[  0,   0,   0, 255],\n",
       "        [ 77,  38,  13, 255],\n",
       "        [153,  76,  25, 255],\n",
       "        ..., \n",
       "        [153,  76,  25, 255],\n",
       "        [ 82,  41,  13, 255],\n",
       "        [  0,   0,   0, 255]],\n",
       "\n",
       "       [[ 77,  38,  13, 255],\n",
       "        [153,  76,  25, 255],\n",
       "        [153,  76,  25, 255],\n",
       "        ..., \n",
       "        [153,  76,  25, 255],\n",
       "        [153,  76,  25, 255],\n",
       "        [ 82,  41,  13, 255]]], dtype=uint8)"
      ]
     },
     "execution_count": 135,
     "metadata": {},
     "output_type": "execute_result"
    }
   ],
   "source": [
    "image"
   ]
  },
  {
   "cell_type": "code",
   "execution_count": 131,
   "metadata": {
    "collapsed": false
   },
   "outputs": [],
   "source": [
    "image = np.frombuffer(s.get_data(), np.uint8).reshape((HEIGHT, WIDTH , 4))\n",
    "image = image[:, :, [2, 1, 0, 3]]"
   ]
  },
  {
   "cell_type": "code",
   "execution_count": 132,
   "metadata": {
    "collapsed": false
   },
   "outputs": [
    {
     "data": {
      "text/plain": [
       "<matplotlib.image.AxesImage at 0x7f14f75c1710>"
      ]
     },
     "execution_count": 132,
     "metadata": {},
     "output_type": "execute_result"
    },
    {
     "data": {
      "image/png": "[encoded data removed]",
      "text/plain": [
       "<matplotlib.figure.Figure at 0x7f14fc0addd0>"
      ]
     },
     "metadata": {},
     "output_type": "display_data"
    }
   ],
   "source": [
    "plt.imshow(image)"
   ]
  },
  {
   "cell_type": "code",
   "execution_count": 120,
   "metadata": {
    "collapsed": true
   },
   "outputs": [],
   "source": [
    "s.finish()"
   ]
  },
  {
   "cell_type": "code",
   "execution_count": 17,
   "metadata": {
    "collapsed": false
   },
   "outputs": [],
   "source": [
    "# Save as a SVG and PNG\n",
    "s.write_to_png('example1.png')\n",
    "s.finish()"
   ]
  }
 ],
 "metadata": {
  "kernelspec": {
   "display_name": "Python 2",
   "language": "python",
   "name": "python2"
  },
  "language_info": {
   "codemirror_mode": {
    "name": "ipython",
    "version": 2
   },
   "file_extension": ".py",
   "mimetype": "text/x-python",
   "name": "python",
   "nbconvert_exporter": "python",
   "pygments_lexer": "ipython2",
   "version": "2.7.10"
  }
 },
 "nbformat": 4,
 "nbformat_minor": 0
}
